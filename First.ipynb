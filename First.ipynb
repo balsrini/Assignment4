{
  "nbformat": 4,
  "nbformat_minor": 0,
  "metadata": {
    "colab": {
      "name": "First.ipynb",
      "version": "0.3.2",
      "provenance": []
    },
    "language_info": {
      "codemirror_mode": {
        "name": "ipython",
        "version": 3
      },
      "file_extension": ".py",
      "mimetype": "text/x-python",
      "name": "python",
      "nbconvert_exporter": "python",
      "pygments_lexer": "ipython3",
      "version": "3.6.4"
    },
    "kernelspec": {
      "display_name": "Python 3",
      "language": "python",
      "name": "python3"
    }
  },
  "cells": [
    {
      "cell_type": "markdown",
      "metadata": {
        "id": "zkHcF46PTGDE",
        "colab_type": "text"
      },
      "source": [
        "\n",
        "<br>\n",
        "Created on 20-May-2019<br>\n",
        "@author: Balaji<br>\n"
      ]
    },
    {
      "cell_type": "code",
      "metadata": {
        "id": "GcgXuBT1TGDF",
        "colab_type": "code",
        "colab": {}
      },
      "source": [
        "#This will create a network with using the convolutions, maxpooling and softmax\n",
        "#import of the keras library\n",
        "import keras"
      ],
      "execution_count": 0,
      "outputs": []
    },
    {
      "cell_type": "code",
      "metadata": {
        "id": "_m0FobWXTGDI",
        "colab_type": "code",
        "colab": {}
      },
      "source": [
        "#import the numerical pyhton libraries and keras libraries\n",
        "import numpy as np\n",
        "from keras.models import Sequential\n",
        "from keras.layers import Dense, Dropout, Activation, Flatten, Add, BatchNormalization\n",
        "from keras.layers import Convolution2D, MaxPooling2D\n",
        "from keras.utils import np_utils"
      ],
      "execution_count": 0,
      "outputs": []
    },
    {
      "cell_type": "code",
      "metadata": {
        "id": "T3yr865ITGDJ",
        "colab_type": "code",
        "colab": {}
      },
      "source": [
        "#Get the data from the mnist. This is a typical 28 x 28 image size\n",
        "from keras.datasets import mnist"
      ],
      "execution_count": 0,
      "outputs": []
    },
    {
      "cell_type": "code",
      "metadata": {
        "id": "3iD58wBWTGDL",
        "colab_type": "code",
        "colab": {}
      },
      "source": [
        "#load the data into our Training  and Validation data\n",
        "(X_train, y_train), (X_test, y_test) = mnist.load_data()"
      ],
      "execution_count": 0,
      "outputs": []
    },
    {
      "cell_type": "code",
      "metadata": {
        "id": "wS0CzvKlTGDM",
        "colab_type": "code",
        "colab": {
          "base_uri": "https://localhost:8080/",
          "height": 286
        },
        "outputId": "76b87899-c1a5-4675-dec5-5c51745c2b09"
      },
      "source": [
        "#plot the shapes from the matrix to the image\n",
        "print (X_train.shape)\n",
        "from matplotlib import pyplot as plt\n",
        "plt.imshow(X_train[1])\n",
        "plt.show()"
      ],
      "execution_count": 10,
      "outputs": [
        {
          "output_type": "stream",
          "text": [
            "(60000, 28, 28)\n"
          ],
          "name": "stdout"
        },
        {
          "output_type": "display_data",
          "data": {
            "image/png": "[encoded data removed]",
            "text/plain": [
              "<Figure size 432x288 with 1 Axes>"
            ]
          },
          "metadata": {
            "tags": []
          }
        }
      ]
    },
    {
      "cell_type": "code",
      "metadata": {
        "id": "ABtXdHl0TGDO",
        "colab_type": "code",
        "colab": {}
      },
      "source": [
        "#reshape the cell size for uniformity\n",
        "X_train = X_train.reshape(X_train.shape[0], 28, 28,1)\n",
        "X_test = X_test.reshape(X_test.shape[0], 28, 28,1)"
      ],
      "execution_count": 0,
      "outputs": []
    },
    {
      "cell_type": "code",
      "metadata": {
        "id": "WQrWiz4jTGDP",
        "colab_type": "code",
        "colab": {}
      },
      "source": [
        "#normalize all the images by dividing with 255 \n",
        "X_train = X_train.astype('float32')\n",
        "X_test = X_test.astype('float32')\n",
        "X_train /= 255\n",
        "X_test /= 255"
      ],
      "execution_count": 0,
      "outputs": []
    },
    {
      "cell_type": "code",
      "metadata": {
        "id": "Cx_rf4pBTGDR",
        "colab_type": "code",
        "colab": {
          "base_uri": "https://localhost:8080/",
          "height": 34
        },
        "outputId": "c91c04e2-40d9-4a68-9cb7-d05fd3601b7d"
      },
      "source": [
        "#show the first 10 data\n",
        "y_train[:10]"
      ],
      "execution_count": 13,
      "outputs": [
        {
          "output_type": "execute_result",
          "data": {
            "text/plain": [
              "array([5, 0, 4, 1, 9, 2, 1, 3, 1, 4], dtype=uint8)"
            ]
          },
          "metadata": {
            "tags": []
          },
          "execution_count": 13
        }
      ]
    },
    {
      "cell_type": "code",
      "metadata": {
        "id": "jE-slqzpTGDS",
        "colab_type": "code",
        "colab": {}
      },
      "source": [
        "#load the training data\n",
        "Y_train = np_utils.to_categorical(y_train, 10)\n",
        "Y_test = np_utils.to_categorical(y_test, 10)"
      ],
      "execution_count": 0,
      "outputs": []
    },
    {
      "cell_type": "code",
      "metadata": {
        "id": "Ia4N5LtvTGDU",
        "colab_type": "code",
        "colab": {
          "base_uri": "https://localhost:8080/",
          "height": 187
        },
        "outputId": "bd1ca4b4-6780-4da7-d39e-3a6f0834df44"
      },
      "source": [
        "#show the training data in matrix format\n",
        "Y_train[:10]"
      ],
      "execution_count": 15,
      "outputs": [
        {
          "output_type": "execute_result",
          "data": {
            "text/plain": [
              "array([[0., 0., 0., 0., 0., 1., 0., 0., 0., 0.],\n",
              "       [1., 0., 0., 0., 0., 0., 0., 0., 0., 0.],\n",
              "       [0., 0., 0., 0., 1., 0., 0., 0., 0., 0.],\n",
              "       [0., 1., 0., 0., 0., 0., 0., 0., 0., 0.],\n",
              "       [0., 0., 0., 0., 0., 0., 0., 0., 0., 1.],\n",
              "       [0., 0., 1., 0., 0., 0., 0., 0., 0., 0.],\n",
              "       [0., 1., 0., 0., 0., 0., 0., 0., 0., 0.],\n",
              "       [0., 0., 0., 1., 0., 0., 0., 0., 0., 0.],\n",
              "       [0., 1., 0., 0., 0., 0., 0., 0., 0., 0.],\n",
              "       [0., 0., 0., 0., 1., 0., 0., 0., 0., 0.]], dtype=float32)"
            ]
          },
          "metadata": {
            "tags": []
          },
          "execution_count": 15
        }
      ]
    },
    {
      "cell_type": "code",
      "metadata": {
        "id": "j7ZO-HeXTGDW",
        "colab_type": "code",
        "colab": {
          "base_uri": "https://localhost:8080/",
          "height": 272
        },
        "outputId": "782e0f55-8bac-4c48-c356-80fd1ca90697"
      },
      "source": [
        "#CNN network to predect the integers\n",
        "from keras.layers import Activation\n",
        "model = Sequential()\n",
        "#Starting block\n",
        "model.add(Convolution2D(10, 3, 3, activation='relu', input_shape=(28,28,1))) # 28 -> 26\n",
        "\n",
        "#Convolution block\n",
        "model.add(Convolution2D(15, 3, 3, activation='relu')) # 26 -> 24\n",
        "model.add(Convolution2D(23, 3, 3, activation='relu')) # 24 -> 22\n",
        "\n",
        "#Transistion block\n",
        "model.add(MaxPooling2D(pool_size=(2, 2))) # 22 -> 11\n",
        "model.add(Convolution2D(10, 1, 1, activation='relu')) # 11 -> 11\n",
        "\n",
        "#Convolution block\n",
        "model.add(Convolution2D(15, 3, 3, activation='relu')) # 11 -> 9\n",
        "model.add(Convolution2D(22, 3, 3, activation='relu')) # 9 -> 7\n",
        "\n",
        "#Ant Man. Not using Max it will not get accuracy\n",
        "model.add(Convolution2D(10, 1, 1, activation='relu')) # 7 -> 7\n",
        "\n",
        "#Convolution block\n",
        "model.add(Convolution2D(15, 3, 3, activation='relu')) # 7 -> 5\n",
        "model.add(Convolution2D(23, 3, 3, activation='relu')) # 5 -> 3\n",
        "\n",
        "#Prediction Block\n",
        "model.add(Convolution2D(10, 3)) # 3 -> 1\n",
        "model.add(Flatten())\n",
        "model.add(Activation('softmax'))"
      ],
      "execution_count": 21,
      "outputs": [
        {
          "output_type": "stream",
          "text": [
            "/usr/local/lib/python3.6/dist-packages/ipykernel_launcher.py:4: UserWarning: Update your `Conv2D` call to the Keras 2 API: `Conv2D(10, (3, 3), activation=\"relu\", input_shape=(28, 28, 1...)`\n",
            "  after removing the cwd from sys.path.\n",
            "/usr/local/lib/python3.6/dist-packages/ipykernel_launcher.py:7: UserWarning: Update your `Conv2D` call to the Keras 2 API: `Conv2D(16, (3, 3), activation=\"relu\")`\n",
            "  import sys\n",
            "/usr/local/lib/python3.6/dist-packages/ipykernel_launcher.py:8: UserWarning: Update your `Conv2D` call to the Keras 2 API: `Conv2D(32, (3, 3), activation=\"relu\")`\n",
            "  \n",
            "/usr/local/lib/python3.6/dist-packages/ipykernel_launcher.py:12: UserWarning: Update your `Conv2D` call to the Keras 2 API: `Conv2D(10, (1, 1), activation=\"relu\")`\n",
            "  if sys.path[0] == '':\n",
            "/usr/local/lib/python3.6/dist-packages/ipykernel_launcher.py:15: UserWarning: Update your `Conv2D` call to the Keras 2 API: `Conv2D(16, (3, 3), activation=\"relu\")`\n",
            "  from ipykernel import kernelapp as app\n",
            "/usr/local/lib/python3.6/dist-packages/ipykernel_launcher.py:16: UserWarning: Update your `Conv2D` call to the Keras 2 API: `Conv2D(32, (3, 3), activation=\"relu\")`\n",
            "  app.launch_new_instance()\n",
            "/usr/local/lib/python3.6/dist-packages/ipykernel_launcher.py:19: UserWarning: Update your `Conv2D` call to the Keras 2 API: `Conv2D(10, (1, 1), activation=\"relu\")`\n",
            "/usr/local/lib/python3.6/dist-packages/ipykernel_launcher.py:22: UserWarning: Update your `Conv2D` call to the Keras 2 API: `Conv2D(16, (3, 3), activation=\"relu\")`\n",
            "/usr/local/lib/python3.6/dist-packages/ipykernel_launcher.py:23: UserWarning: Update your `Conv2D` call to the Keras 2 API: `Conv2D(32, (3, 3), activation=\"relu\")`\n"
          ],
          "name": "stderr"
        }
      ]
    },
    {
      "cell_type": "code",
      "metadata": {
        "id": "4Pz_KcoUTGDg",
        "colab_type": "code",
        "colab": {
          "base_uri": "https://localhost:8080/",
          "height": 578
        },
        "outputId": "8a7c9b78-d2d7-4877-8d6d-1ce89c23d4e3"
      },
      "source": [
        "#Create the model summary\n",
        "model.summary()"
      ],
      "execution_count": 22,
      "outputs": [
        {
          "output_type": "stream",
          "text": [
            "_________________________________________________________________\n",
            "Layer (type)                 Output Shape              Param #   \n",
            "=================================================================\n",
            "conv2d_11 (Conv2D)           (None, 26, 26, 10)        100       \n",
            "_________________________________________________________________\n",
            "conv2d_12 (Conv2D)           (None, 24, 24, 16)        1456      \n",
            "_________________________________________________________________\n",
            "conv2d_13 (Conv2D)           (None, 22, 22, 32)        4640      \n",
            "_________________________________________________________________\n",
            "max_pooling2d_2 (MaxPooling2 (None, 11, 11, 32)        0         \n",
            "_________________________________________________________________\n",
            "conv2d_14 (Conv2D)           (None, 11, 11, 10)        330       \n",
            "_________________________________________________________________\n",
            "conv2d_15 (Conv2D)           (None, 9, 9, 16)          1456      \n",
            "_________________________________________________________________\n",
            "conv2d_16 (Conv2D)           (None, 7, 7, 32)          4640      \n",
            "_________________________________________________________________\n",
            "conv2d_17 (Conv2D)           (None, 7, 7, 10)          330       \n",
            "_________________________________________________________________\n",
            "conv2d_18 (Conv2D)           (None, 5, 5, 16)          1456      \n",
            "_________________________________________________________________\n",
            "conv2d_19 (Conv2D)           (None, 3, 3, 32)          4640      \n",
            "_________________________________________________________________\n",
            "conv2d_20 (Conv2D)           (None, 1, 1, 10)          2890      \n",
            "_________________________________________________________________\n",
            "flatten_2 (Flatten)          (None, 10)                0         \n",
            "_________________________________________________________________\n",
            "activation_2 (Activation)    (None, 10)                0         \n",
            "=================================================================\n",
            "Total params: 21,938\n",
            "Trainable params: 21,938\n",
            "Non-trainable params: 0\n",
            "_________________________________________________________________\n"
          ],
          "name": "stdout"
        }
      ]
    },
    {
      "cell_type": "code",
      "metadata": {
        "id": "NE7TXTFOVuBe",
        "colab_type": "code",
        "colab": {}
      },
      "source": [
        "#compile the model\n",
        "model.compile(loss='categorical_crossentropy',\n",
        "             optimizer='adam',\n",
        "             metrics=['accuracy'])"
      ],
      "execution_count": 0,
      "outputs": []
    },
    {
      "cell_type": "code",
      "metadata": {
        "id": "FUPedH5XV2DE",
        "colab_type": "code",
        "colab": {
          "base_uri": "https://localhost:8080/",
          "height": 374
        },
        "outputId": "b18a24a2-d126-40c4-eff6-973e2d594d97"
      },
      "source": [
        "#Run the backprogation for 10 epochs with batch size of 32 on the training data\n",
        "model.fit(X_train, Y_train, batch_size=32, epochs=10, verbose=1)"
      ],
      "execution_count": 24,
      "outputs": [
        {
          "output_type": "stream",
          "text": [
            "Epoch 1/10\n",
            "60000/60000 [==============================] - 122s 2ms/step - loss: 0.2258 - acc: 0.9287\n",
            "Epoch 2/10\n",
            "60000/60000 [==============================] - 121s 2ms/step - loss: 0.0771 - acc: 0.9765\n",
            "Epoch 3/10\n",
            "60000/60000 [==============================] - 121s 2ms/step - loss: 0.0572 - acc: 0.9826\n",
            "Epoch 4/10\n",
            "60000/60000 [==============================] - 121s 2ms/step - loss: 0.0481 - acc: 0.9853\n",
            "Epoch 5/10\n",
            "60000/60000 [==============================] - 120s 2ms/step - loss: 0.0420 - acc: 0.9869\n",
            "Epoch 6/10\n",
            "60000/60000 [==============================] - 120s 2ms/step - loss: 0.0362 - acc: 0.9882\n",
            "Epoch 7/10\n",
            "60000/60000 [==============================] - 120s 2ms/step - loss: 0.0335 - acc: 0.9897\n",
            "Epoch 8/10\n",
            "60000/60000 [==============================] - 120s 2ms/step - loss: 0.0303 - acc: 0.9904\n",
            "Epoch 9/10\n",
            "60000/60000 [==============================] - 120s 2ms/step - loss: 0.0264 - acc: 0.9914\n",
            "Epoch 10/10\n",
            "60000/60000 [==============================] - 120s 2ms/step - loss: 0.0234 - acc: 0.9925\n"
          ],
          "name": "stdout"
        },
        {
          "output_type": "execute_result",
          "data": {
            "text/plain": [
              "<keras.callbacks.History at 0x7fc2a7aadb70>"
            ]
          },
          "metadata": {
            "tags": []
          },
          "execution_count": 24
        }
      ]
    },
    {
      "cell_type": "code",
      "metadata": {
        "id": "Al0K1AOgWJ7z",
        "colab_type": "code",
        "colab": {}
      },
      "source": [
        "#Evaluate the mode with the test data.\n",
        "score = model.evaluate(X_test, Y_test, verbose=0)"
      ],
      "execution_count": 0,
      "outputs": []
    },
    {
      "cell_type": "code",
      "metadata": {
        "id": "WVOPSIA-WWBQ",
        "colab_type": "code",
        "colab": {
          "base_uri": "https://localhost:8080/",
          "height": 34
        },
        "outputId": "ca9baae7-3263-44d8-a838-7c21ab83a8e0"
      },
      "source": [
        "#print the score\n",
        "print(score)"
      ],
      "execution_count": 26,
      "outputs": [
        {
          "output_type": "stream",
          "text": [
            "[0.030447443060670046, 0.9908]\n"
          ],
          "name": "stdout"
        }
      ]
    }
  ]
}