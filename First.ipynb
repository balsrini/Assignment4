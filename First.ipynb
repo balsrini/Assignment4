{
  "nbformat": 4,
  "nbformat_minor": 0,
  "metadata": {
    "colab": {
      "name": "First.ipynb",
      "version": "0.3.2",
      "provenance": []
    },
    "language_info": {
      "codemirror_mode": {
        "name": "ipython",
        "version": 3
      },
      "file_extension": ".py",
      "mimetype": "text/x-python",
      "name": "python",
      "nbconvert_exporter": "python",
      "pygments_lexer": "ipython3",
      "version": "3.6.4"
    },
    "kernelspec": {
      "display_name": "Python 3",
      "language": "python",
      "name": "python3"
    }
  },
  "cells": [
    {
      "cell_type": "markdown",
      "metadata": {
        "id": "zkHcF46PTGDE",
        "colab_type": "text"
      },
      "source": [
        "\n",
        "<br>\n",
        "Created on 20-May-2019<br>\n",
        "@author: Balaji<br>\n"
      ]
    },
    {
      "cell_type": "code",
      "metadata": {
        "id": "GcgXuBT1TGDF",
        "colab_type": "code",
        "colab": {
          "base_uri": "https://localhost:8080/",
          "height": 34
        },
        "outputId": "f784bce0-3ae8-4ae1-ae96-b8f3b7733753"
      },
      "source": [
        "import keras"
      ],
      "execution_count": 1,
      "outputs": [
        {
          "output_type": "stream",
          "text": [
            "Using TensorFlow backend.\n"
          ],
          "name": "stderr"
        }
      ]
    },
    {
      "cell_type": "code",
      "metadata": {
        "id": "_m0FobWXTGDI",
        "colab_type": "code",
        "colab": {}
      },
      "source": [
        "import numpy as np\n",
        "from keras.models import Sequential\n",
        "from keras.layers import Dense, Dropout, Activation, Flatten, Add, BatchNormalization\n",
        "from keras.layers import Convolution2D, MaxPooling2D\n",
        "from keras.utils import np_utils"
      ],
      "execution_count": 0,
      "outputs": []
    },
    {
      "cell_type": "code",
      "metadata": {
        "id": "T3yr865ITGDJ",
        "colab_type": "code",
        "colab": {}
      },
      "source": [
        "from keras.datasets import mnist"
      ],
      "execution_count": 0,
      "outputs": []
    },
    {
      "cell_type": "code",
      "metadata": {
        "id": "3iD58wBWTGDL",
        "colab_type": "code",
        "colab": {
          "base_uri": "https://localhost:8080/",
          "height": 51
        },
        "outputId": "c9cf1675-e9bf-4ec7-8eea-a29551d8710d"
      },
      "source": [
        "(X_train, y_train), (X_test, y_test) = mnist.load_data()"
      ],
      "execution_count": 5,
      "outputs": [
        {
          "output_type": "stream",
          "text": [
            "Downloading data from https://s3.amazonaws.com/img-datasets/mnist.npz\n",
            "11493376/11490434 [==============================] - 1s 0us/step\n"
          ],
          "name": "stdout"
        }
      ]
    },
    {
      "cell_type": "code",
      "metadata": {
        "id": "wS0CzvKlTGDM",
        "colab_type": "code",
        "colab": {}
      },
      "source": [
        "print (X_train.shape)\n",
        "from matplotlib import pyplot as plt\n",
        "plt.imshow(X_train[1])\n",
        "plt.show()"
      ],
      "execution_count": 0,
      "outputs": []
    },
    {
      "cell_type": "code",
      "metadata": {
        "id": "ABtXdHl0TGDO",
        "colab_type": "code",
        "colab": {}
      },
      "source": [
        "X_train = X_train.reshape(X_train.shape[0], 28, 28,1)\n",
        "X_test = X_test.reshape(X_test.shape[0], 28, 28,1)"
      ],
      "execution_count": 0,
      "outputs": []
    },
    {
      "cell_type": "code",
      "metadata": {
        "id": "WQrWiz4jTGDP",
        "colab_type": "code",
        "colab": {}
      },
      "source": [
        "X_train = X_train.astype('float32')\n",
        "X_test = X_test.astype('float32')\n",
        "X_train /= 255\n",
        "X_test /= 255"
      ],
      "execution_count": 0,
      "outputs": []
    },
    {
      "cell_type": "code",
      "metadata": {
        "id": "Cx_rf4pBTGDR",
        "colab_type": "code",
        "colab": {}
      },
      "source": [
        "y_train[:10]"
      ],
      "execution_count": 0,
      "outputs": []
    },
    {
      "cell_type": "code",
      "metadata": {
        "id": "jE-slqzpTGDS",
        "colab_type": "code",
        "colab": {}
      },
      "source": [
        "Y_train = np_utils.to_categorical(y_train, 10)\n",
        "Y_test = np_utils.to_categorical(y_test, 10)"
      ],
      "execution_count": 0,
      "outputs": []
    },
    {
      "cell_type": "code",
      "metadata": {
        "id": "Ia4N5LtvTGDU",
        "colab_type": "code",
        "colab": {}
      },
      "source": [
        "Y_train[:10]"
      ],
      "execution_count": 0,
      "outputs": []
    },
    {
      "cell_type": "code",
      "metadata": {
        "id": "j7ZO-HeXTGDW",
        "colab_type": "code",
        "colab": {}
      },
      "source": [
        "from keras.layers import Activation\n",
        "model = Sequential()\n",
        "model.add(Convolution2D(16, 3, 3, activation='relu', input_shape=(28,28,1))) # 28 -> 26\n",
        "model.add(Convolution2D(32, 3, 3, activation='relu')) # 26 -> 24\n",
        "model.add(Convolution2D(64, 3, 3, activation='relu')) # 24 -> 22\n",
        "\n",
        "model.add(MaxPooling2D(pool_size=(2, 2))) # 22 -> 11\n",
        "\n",
        "model.add(Convolution2D(16, 1, 1, activation='relu')) # 11 -> 11\n",
        "model.add(Convolution2D(32, 3, 3, activation='relu')) # 11 -> 9\n",
        "model.add(Convolution2D(64, 3, 3, activation='relu')) # 9 -> 7\n",
        "\n",
        "model.add(Convolution2D(16, 1, 1, activation='relu')) # 7 -> 7\n",
        "model.add(Convolution2D(32, 3, 3, activation='relu')) # 7 -> 5\n",
        "model.add(Convolution2D(64, 3, 3, activation='relu')) # 5 -> 3\n",
        "\n",
        "model.add(Convolution2D(10, 3)) # 3 -> 1\n",
        "model.add(Flatten())\n",
        "model.add(Activation('softmax'))"
      ],
      "execution_count": 0,
      "outputs": []
    },
    {
      "cell_type": "code",
      "metadata": {
        "id": "4Pz_KcoUTGDg",
        "colab_type": "code",
        "colab": {}
      },
      "source": [
        "model.summary()"
      ],
      "execution_count": 0,
      "outputs": []
    }
  ]
}