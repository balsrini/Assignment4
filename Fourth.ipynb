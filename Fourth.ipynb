{
  "nbformat": 4,
  "nbformat_minor": 0,
  "metadata": {
    "colab": {
      "name": "First.ipynb",
      "version": "0.3.2",
      "provenance": [],
      "include_colab_link": true
    },
    "language_info": {
      "codemirror_mode": {
        "name": "ipython",
        "version": 3
      },
      "file_extension": ".py",
      "mimetype": "text/x-python",
      "name": "python",
      "nbconvert_exporter": "python",
      "pygments_lexer": "ipython3",
      "version": "3.6.4"
    },
    "kernelspec": {
      "display_name": "Python 3",
      "language": "python",
      "name": "python3"
    }
  },
  "cells": [
    {
      "cell_type": "markdown",
      "metadata": {
        "id": "view-in-github",
        "colab_type": "text"
      },
      "source": [
        "<a href=\"https://colab.research.google.com/github/balsrini/Assignment4/blob/master/Fourth.ipynb\" target=\"_parent\"><img src=\"https://colab.research.google.com/assets/colab-badge.svg\" alt=\"Open In Colab\"/></a>"
      ]
    },
    {
      "cell_type": "markdown",
      "metadata": {
        "id": "zkHcF46PTGDE",
        "colab_type": "text"
      },
      "source": [
        "\n",
        "<br>\n",
        "Created on 20-May-2019<br>\n",
        "@author: Balaji<br>\n"
      ]
    },
    {
      "cell_type": "code",
      "metadata": {
        "id": "GcgXuBT1TGDF",
        "colab_type": "code",
        "colab": {}
      },
      "source": [
        "#Modifying the learning rate to 0.001 and increasing epoch to 20. Adding validation \n",
        "#import of the keras library\n",
        "import keras"
      ],
      "execution_count": 0,
      "outputs": []
    },
    {
      "cell_type": "code",
      "metadata": {
        "id": "_m0FobWXTGDI",
        "colab_type": "code",
        "colab": {}
      },
      "source": [
        "#import the numerical pyhton libraries and keras libraries\n",
        "import numpy as np\n",
        "from keras.models import Sequential\n",
        "from keras.layers import Dense, Dropout, Activation, Flatten, Add, BatchNormalization\n",
        "from keras.layers import Convolution2D, MaxPooling2D\n",
        "from keras.utils import np_utils"
      ],
      "execution_count": 0,
      "outputs": []
    },
    {
      "cell_type": "code",
      "metadata": {
        "id": "T3yr865ITGDJ",
        "colab_type": "code",
        "colab": {}
      },
      "source": [
        "#Get the data from the mnist. This is a typical 28 x 28 image size\n",
        "from keras.datasets import mnist"
      ],
      "execution_count": 0,
      "outputs": []
    },
    {
      "cell_type": "code",
      "metadata": {
        "id": "3iD58wBWTGDL",
        "colab_type": "code",
        "colab": {}
      },
      "source": [
        "#load the data into our Training  and Validation data\n",
        "(X_train, y_train), (X_test, y_test) = mnist.load_data()"
      ],
      "execution_count": 0,
      "outputs": []
    },
    {
      "cell_type": "code",
      "metadata": {
        "id": "wS0CzvKlTGDM",
        "colab_type": "code",
        "outputId": "76b87899-c1a5-4675-dec5-5c51745c2b09",
        "colab": {
          "base_uri": "https://localhost:8080/",
          "height": 286
        }
      },
      "source": [
        "#plot the shapes from the matrix to the image\n",
        "print (X_train.shape)\n",
        "from matplotlib import pyplot as plt\n",
        "plt.imshow(X_train[1])\n",
        "plt.show()"
      ],
      "execution_count": 0,
      "outputs": [
        {
          "output_type": "stream",
          "text": [
            "(60000, 28, 28)\n"
          ],
          "name": "stdout"
        },
        {
          "output_type": "display_data",
          "data": {
            "image/png": "[encoded data removed]",
            "text/plain": [
              "<Figure size 432x288 with 1 Axes>"
            ]
          },
          "metadata": {
            "tags": []
          }
        }
      ]
    },
    {
      "cell_type": "code",
      "metadata": {
        "id": "ABtXdHl0TGDO",
        "colab_type": "code",
        "colab": {}
      },
      "source": [
        "#reshape the cell size for uniformity\n",
        "X_train = X_train.reshape(X_train.shape[0], 28, 28,1)\n",
        "X_test = X_test.reshape(X_test.shape[0], 28, 28,1)"
      ],
      "execution_count": 0,
      "outputs": []
    },
    {
      "cell_type": "code",
      "metadata": {
        "id": "WQrWiz4jTGDP",
        "colab_type": "code",
        "colab": {}
      },
      "source": [
        "#normalize all the images by dividing with 255 \n",
        "X_train = X_train.astype('float32')\n",
        "X_test = X_test.astype('float32')\n",
        "X_train /= 255\n",
        "X_test /= 255"
      ],
      "execution_count": 0,
      "outputs": []
    },
    {
      "cell_type": "code",
      "metadata": {
        "id": "Cx_rf4pBTGDR",
        "colab_type": "code",
        "outputId": "c91c04e2-40d9-4a68-9cb7-d05fd3601b7d",
        "colab": {
          "base_uri": "https://localhost:8080/",
          "height": 34
        }
      },
      "source": [
        "#show the first 10 data\n",
        "y_train[:10]"
      ],
      "execution_count": 0,
      "outputs": [
        {
          "output_type": "execute_result",
          "data": {
            "text/plain": [
              "array([5, 0, 4, 1, 9, 2, 1, 3, 1, 4], dtype=uint8)"
            ]
          },
          "metadata": {
            "tags": []
          },
          "execution_count": 13
        }
      ]
    },
    {
      "cell_type": "code",
      "metadata": {
        "id": "jE-slqzpTGDS",
        "colab_type": "code",
        "colab": {}
      },
      "source": [
        "#load the training data\n",
        "Y_train = np_utils.to_categorical(y_train, 10)\n",
        "Y_test = np_utils.to_categorical(y_test, 10)"
      ],
      "execution_count": 0,
      "outputs": []
    },
    {
      "cell_type": "code",
      "metadata": {
        "id": "Ia4N5LtvTGDU",
        "colab_type": "code",
        "outputId": "bd1ca4b4-6780-4da7-d39e-3a6f0834df44",
        "colab": {
          "base_uri": "https://localhost:8080/",
          "height": 187
        }
      },
      "source": [
        "#show the training data in matrix format\n",
        "Y_train[:10]"
      ],
      "execution_count": 0,
      "outputs": [
        {
          "output_type": "execute_result",
          "data": {
            "text/plain": [
              "array([[0., 0., 0., 0., 0., 1., 0., 0., 0., 0.],\n",
              "       [1., 0., 0., 0., 0., 0., 0., 0., 0., 0.],\n",
              "       [0., 0., 0., 0., 1., 0., 0., 0., 0., 0.],\n",
              "       [0., 1., 0., 0., 0., 0., 0., 0., 0., 0.],\n",
              "       [0., 0., 0., 0., 0., 0., 0., 0., 0., 1.],\n",
              "       [0., 0., 1., 0., 0., 0., 0., 0., 0., 0.],\n",
              "       [0., 1., 0., 0., 0., 0., 0., 0., 0., 0.],\n",
              "       [0., 0., 0., 1., 0., 0., 0., 0., 0., 0.],\n",
              "       [0., 1., 0., 0., 0., 0., 0., 0., 0., 0.],\n",
              "       [0., 0., 0., 0., 1., 0., 0., 0., 0., 0.]], dtype=float32)"
            ]
          },
          "metadata": {
            "tags": []
          },
          "execution_count": 15
        }
      ]
    },
    {
      "cell_type": "code",
      "metadata": {
        "id": "j7ZO-HeXTGDW",
        "colab_type": "code",
        "outputId": "36558d91-bcee-4e2a-ab39-47020f197c38",
        "colab": {
          "base_uri": "https://localhost:8080/",
          "height": 272
        }
      },
      "source": [
        "#CNN network to predect the integers\n",
        "from keras.layers import Activation\n",
        "model = Sequential()\n",
        "#Starting block\n",
        "model.add(Convolution2D(10, 3, 3, activation='relu', input_shape=(28,28,1))) # 28 -> 26\n",
        "model.add(BatchNormalization())\n",
        "\n",
        "#Convolution block\n",
        "model.add(Convolution2D(15, 3, 3, activation='relu')) # 26 -> 24\n",
        "model.add(BatchNormalization())\n",
        "model.add(Convolution2D(23, 3, 3, activation='relu')) # 24 -> 22\n",
        "model.add(BatchNormalization())\n",
        "\n",
        "#adding a dropout\n",
        "model.add(Dropout(0.25))\n",
        "\n",
        "#Transistion block\n",
        "model.add(MaxPooling2D(pool_size=(2, 2))) # 22 -> 11\n",
        "model.add(Convolution2D(10, 1, 1, activation='relu')) # 11 -> 11\n",
        "model.add(BatchNormalization())\n",
        "\n",
        "#Convolution block\n",
        "model.add(Convolution2D(15, 3, 3, activation='relu')) # 11 -> 9\n",
        "model.add(BatchNormalization())\n",
        "model.add(Convolution2D(23, 3, 3, activation='relu')) # 9 -> 7\n",
        "model.add(BatchNormalization())\n",
        "\n",
        "#adding a dropout\n",
        "model.add(Dropout(0.25))\n",
        "\n",
        "#Ant Man. Not using Max it will not get accuracy\n",
        "model.add(Convolution2D(10, 1, 1, activation='relu')) # 7 -> 7\n",
        "model.add(BatchNormalization())\n",
        "\n",
        "#Convolution block\n",
        "model.add(Convolution2D(15, 3, 3, activation='relu')) # 7 -> 5\n",
        "model.add(BatchNormalization())\n",
        "model.add(Convolution2D(23, 3, 3, activation='relu')) # 5 -> 3\n",
        "\n",
        "#Prediction Block\n",
        "model.add(Convolution2D(10, 3)) # 3 -> 1\n",
        "model.add(Flatten())\n",
        "model.add(Activation('softmax'))"
      ],
      "execution_count": 0,
      "outputs": [
        {
          "output_type": "stream",
          "text": [
            "/usr/local/lib/python3.6/dist-packages/ipykernel_launcher.py:4: UserWarning: Update your `Conv2D` call to the Keras 2 API: `Conv2D(10, (3, 3), activation=\"relu\", input_shape=(28, 28, 1...)`\n",
            "  after removing the cwd from sys.path.\n",
            "/usr/local/lib/python3.6/dist-packages/ipykernel_launcher.py:7: UserWarning: Update your `Conv2D` call to the Keras 2 API: `Conv2D(15, (3, 3), activation=\"relu\")`\n",
            "  import sys\n",
            "/usr/local/lib/python3.6/dist-packages/ipykernel_launcher.py:8: UserWarning: Update your `Conv2D` call to the Keras 2 API: `Conv2D(23, (3, 3), activation=\"relu\")`\n",
            "  \n",
            "/usr/local/lib/python3.6/dist-packages/ipykernel_launcher.py:12: UserWarning: Update your `Conv2D` call to the Keras 2 API: `Conv2D(10, (1, 1), activation=\"relu\")`\n",
            "  if sys.path[0] == '':\n",
            "/usr/local/lib/python3.6/dist-packages/ipykernel_launcher.py:15: UserWarning: Update your `Conv2D` call to the Keras 2 API: `Conv2D(15, (3, 3), activation=\"relu\")`\n",
            "  from ipykernel import kernelapp as app\n",
            "/usr/local/lib/python3.6/dist-packages/ipykernel_launcher.py:16: UserWarning: Update your `Conv2D` call to the Keras 2 API: `Conv2D(23, (3, 3), activation=\"relu\")`\n",
            "  app.launch_new_instance()\n",
            "/usr/local/lib/python3.6/dist-packages/ipykernel_launcher.py:19: UserWarning: Update your `Conv2D` call to the Keras 2 API: `Conv2D(10, (1, 1), activation=\"relu\")`\n",
            "/usr/local/lib/python3.6/dist-packages/ipykernel_launcher.py:22: UserWarning: Update your `Conv2D` call to the Keras 2 API: `Conv2D(15, (3, 3), activation=\"relu\")`\n",
            "/usr/local/lib/python3.6/dist-packages/ipykernel_launcher.py:23: UserWarning: Update your `Conv2D` call to the Keras 2 API: `Conv2D(23, (3, 3), activation=\"relu\")`\n"
          ],
          "name": "stderr"
        }
      ]
    },
    {
      "cell_type": "code",
      "metadata": {
        "id": "4Pz_KcoUTGDg",
        "colab_type": "code",
        "outputId": "ca9b00db-11bc-4771-98a0-65df6b8090a2",
        "colab": {
          "base_uri": "https://localhost:8080/",
          "height": 578
        }
      },
      "source": [
        "#Create the model summary\n",
        "model.summary()"
      ],
      "execution_count": 0,
      "outputs": [
        {
          "output_type": "stream",
          "text": [
            "_________________________________________________________________\n",
            "Layer (type)                 Output Shape              Param #   \n",
            "=================================================================\n",
            "conv2d_31 (Conv2D)           (None, 26, 26, 10)        100       \n",
            "_________________________________________________________________\n",
            "conv2d_32 (Conv2D)           (None, 24, 24, 15)        1365      \n",
            "_________________________________________________________________\n",
            "conv2d_33 (Conv2D)           (None, 22, 22, 23)        3128      \n",
            "_________________________________________________________________\n",
            "max_pooling2d_4 (MaxPooling2 (None, 11, 11, 23)        0         \n",
            "_________________________________________________________________\n",
            "conv2d_34 (Conv2D)           (None, 11, 11, 10)        240       \n",
            "_________________________________________________________________\n",
            "conv2d_35 (Conv2D)           (None, 9, 9, 15)          1365      \n",
            "_________________________________________________________________\n",
            "conv2d_36 (Conv2D)           (None, 7, 7, 23)          3128      \n",
            "_________________________________________________________________\n",
            "conv2d_37 (Conv2D)           (None, 7, 7, 10)          240       \n",
            "_________________________________________________________________\n",
            "conv2d_38 (Conv2D)           (None, 5, 5, 15)          1365      \n",
            "_________________________________________________________________\n",
            "conv2d_39 (Conv2D)           (None, 3, 3, 23)          3128      \n",
            "_________________________________________________________________\n",
            "conv2d_40 (Conv2D)           (None, 1, 1, 10)          2080      \n",
            "_________________________________________________________________\n",
            "flatten_4 (Flatten)          (None, 10)                0         \n",
            "_________________________________________________________________\n",
            "activation_4 (Activation)    (None, 10)                0         \n",
            "=================================================================\n",
            "Total params: 16,139\n",
            "Trainable params: 16,139\n",
            "Non-trainable params: 0\n",
            "_________________________________________________________________\n"
          ],
          "name": "stdout"
        }
      ]
    },
    {
      "cell_type": "code",
      "metadata": {
        "id": "NE7TXTFOVuBe",
        "colab_type": "code",
        "colab": {}
      },
      "source": [
        "#compile the model\n",
        "model.compile(loss='categorical_crossentropy',\n",
        "             optimizer=Adam(lr=0.001)\n",
        "             metrics=['accuracy'])"
      ],
      "execution_count": 0,
      "outputs": []
    },
    {
      "cell_type": "code",
      "metadata": {
        "id": "FUPedH5XV2DE",
        "colab_type": "code",
        "outputId": "faf6448b-f5bc-4369-a1ed-a1ab8ed53fc7",
        "colab": {
          "base_uri": "https://localhost:8080/",
          "height": 170
        }
      },
      "source": [
        "#Run the backprogation for 10 epochs with batch size of 32 on the training data\n",
        "model.fit(X_train, Y_train, batch_size=32, epochs=20, verbose=1, validation_data=(X_test, Y_test),  callbacks=[LearningRateScheduler(scheduler, verbose=1)])"
      ],
      "execution_count": 0,
      "outputs": [
        {
          "output_type": "stream",
          "text": [
            "WARNING:tensorflow:From /usr/local/lib/python3.6/dist-packages/tensorflow/python/ops/math_ops.py:3066: to_int32 (from tensorflow.python.ops.math_ops) is deprecated and will be removed in a future version.\n",
            "Instructions for updating:\n",
            "Use tf.cast instead.\n",
            "Epoch 1/10\n",
            "60000/60000 [==============================] - 250s 4ms/step - loss: 0.1919 - acc: 0.9393\n",
            "Epoch 2/10\n",
            "60000/60000 [==============================] - 251s 4ms/step - loss: 0.0565 - acc: 0.9821\n",
            "Epoch 3/10\n",
            "29664/60000 [=============>................] - ETA: 2:09 - loss: 0.0451 - acc: 0.9858"
          ],
          "name": "stdout"
        }
      ]
    },
    {
      "cell_type": "code",
      "metadata": {
        "id": "Al0K1AOgWJ7z",
        "colab_type": "code",
        "colab": {}
      },
      "source": [
        "#Evaluate the mode with the test data.\n",
        "score = model.evaluate(X_test, Y_test, verbose=0)"
      ],
      "execution_count": 0,
      "outputs": []
    },
    {
      "cell_type": "code",
      "metadata": {
        "id": "WVOPSIA-WWBQ",
        "colab_type": "code",
        "outputId": "7ba29657-a4cf-433e-f0fa-d17f7d2a6369",
        "colab": {
          "base_uri": "https://localhost:8080/",
          "height": 34
        }
      },
      "source": [
        "#print the score\n",
        "print(score)"
      ],
      "execution_count": 0,
      "outputs": [
        {
          "output_type": "stream",
          "text": [
            "[0.03329409108719992, 0.991]\n"
          ],
          "name": "stdout"
        }
      ]
    }
  ]
}